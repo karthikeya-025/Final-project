{
 "cells": [
  {
   "cell_type": "code",
   "execution_count": null,
   "id": "f8abc76b",
   "metadata": {},
   "outputs": [],
   "source": [
    "class _Admin_privs:\n",
    "    def __init__(self):\n",
    "        self.foodDict = {}\n",
    "        self.size = len(self.foodDict)\n",
    "        self.name = None\n",
    "        self.quantity = None\n",
    "        self.price = None\n",
    "        self.discount = None\n",
    "        self.stock = None\n",
    "    def add(self):\n",
    "        self.name = str(input(\"Enter the name of the food : \"))\n",
    "        self.quantity = str(input(\"Enter the amount of food : \"))\n",
    "        self.price = str(input(\"Enter the price of the food : \"))\n",
    "        self.discount = str(input(\"Enter the dicount availabe on the food : \"))\n",
    "        self.stock = str(input(\"Enter the stock of the food : \"))\n",
    "\n",
    "        self.size += 1\n",
    "        self.FoodId = self.size\n",
    "        self.foodDict[self.FoodId] = f\"{self.name}({self.quantity}) - [INR{self.price}]\"\n",
    "    def edit(self):\n",
    "        print(\"Here's the menu, select an item by specifying the item with their respective number\")\n",
    "        for i in self.foodDict:\n",
    "            print(f\"{ind+1}. {i}\")\n",
    "        item = int(input(\"specify the item : \"))\n",
    "        self.name = str(input(\"Enter the name of the food : \"))\n",
    "        self.quantity = str(input(\"Enter the amount of food : \"))\n",
    "        self.price = str(input(\"Enter the price of the food : \"))\n",
    "        self.discount = str(input(\"Enter the dicount availabe on the food : \"))\n",
    "        self.stock = str(input(\"Enter the stock of the food : \"))\n",
    "        \n",
    "        self.foodDict[item] = f\"{self.name}({self.quantity}) - [INR{self.price}]\"\n",
    "    def view(self):\n",
    "        print(\"Here's the menu\")\n",
    "        for i in self.foodDict:\n",
    "            print(self.foodDict[i])\n",
    "    def remove(self):\n",
    "        print(\"Here's the menu, select an item by specifying the item with their respective number\")\n",
    "        for ind,i in enumerate(self.menu):\n",
    "            print(f\"{ind+1}. {i}\")\n",
    "        item = int(input(\"specify the item : \"))\n",
    "        self.foodDict.pop(item)"
   ]
  },
  {
   "cell_type": "code",
   "execution_count": null,
   "id": "2f0681e9",
   "metadata": {},
   "outputs": [],
   "source": [
    "class Admin(_Admin_privs):\n",
    "    username = \"Admin\"\n",
    "    PASSWORD = \"password123\"\n",
    "    def __init__(self):\n",
    "        self.name = str(input(\"Enter the username : \"))\n",
    "        self.password = str(input(\"Enter the password : \"))\n",
    "        if self.username == self.name and self.PASSWORD == self.password:\n",
    "            super().__init__()\n",
    "            print(\"You're Logged in\")\n",
    "            print(\"You can now perform all the operations\")\n",
    "            print(\"Here's the list of operations you can perform\")\n",
    "            print(\"Add \\n Edit \\n View \\n Remove \\n\")\n",
    "        else:\n",
    "            print(\"Please re-enter the details correctly\")\n",
    "            "
   ]
  },
  {
   "cell_type": "code",
   "execution_count": null,
   "id": "3507ece5",
   "metadata": {},
   "outputs": [],
   "source": [
    "class User:\n",
    "    def __init__(self):\n",
    "        self.users = []\n",
    "        self.passwords = []\n",
    "        self.menu = [\"Tandoori Chicken (4 pieces) - [INR 240]\",\"Vegan Burger (1 Piece) - [INR 320]\",\"Truffle Cake (500gm) - [INR 900]\"]\n",
    "        self.orders = []\n",
    "    def _register_details(self,name,pn_no,email,address,password):\n",
    "        self.name = name\n",
    "        self.pn_no = pn_no\n",
    "        self.email = email\n",
    "        self.address = address\n",
    "        self.password = password\n",
    "        self.users.append(self.name)\n",
    "        self.passwords.append(self.password)\n",
    "        return True\n",
    "    def register(self):\n",
    "        name = str(input(\"Enter Your Fullname : \"))\n",
    "        email = str(input(\"Enter Your Email Address : \"))\n",
    "        pn_no = str(input(\"Enter Your Phone Number : \"))\n",
    "        address = str(input(\"Enter Your Address : \"))\n",
    "        password = str(input(\"Enter a strong Password : \"))\n",
    "        if  self._register_details(name,pn_no,email,address,password):\n",
    "            return \"Registration Successful\"\n",
    "        else:\n",
    "            return \"Registration UnSuccessful\"\n",
    "    def login(self,name,password):\n",
    "        self.username = name\n",
    "        self.password_log = password\n",
    "        if self.username in self.users and self.password_log in self.passwords:\n",
    "            print(\"Login Succesful\")\n",
    "            print('-------------------------------------')\n",
    "            self._succesfulLogin()\n",
    "        else:\n",
    "            print(\"Wrong Details Entered\")\n",
    "            return False\n",
    "    def _succesfulLogin(self):\n",
    "        print(\"What Would You Like to Do:\")\n",
    "        print(\"1.Place an Order \\n 2.Order History \\n 3.Update Profile\")\n",
    "        option = str(input(\"\"))\n",
    "        if option.lower() == '1' or option.lower() == 'Place an Order':\n",
    "            self.orderPlacement()\n",
    "        elif option.lower() == '2' or option.lower() == 'Order History':\n",
    "            self.orderHistory()\n",
    "        elif option.lower() == '3' or option.lower() == 'Update Profile':\n",
    "            return updateProfile()\n",
    "        else:\n",
    "            return \"Enter the correct Option please!\"\n",
    "    def orderPlacement(self):\n",
    "        print(\"Currently We Serve:\")\n",
    "        \n",
    "        for ind,i in enumerate(self.menu):\n",
    "            print(f'{ind}. {i} \\n')\n",
    "        options = eval(input(\"Enter the order by specifying their respective numbers please! : \"))\n",
    "        for i in options:\n",
    "            try: \n",
    "                print(self.menu[i-1])\n",
    "                self.orders.append(self.menu[i-1])\n",
    "            except IndexError:\n",
    "                print(\"Pleace specify the correct order number!\")\n",
    "    def orderHistory(self):\n",
    "        print(\"Here are your orders!\")\n",
    "        for i in self.orders:\n",
    "            print(i)\n",
    "        \n",
    "    def updateProfile(self):\n",
    "        name = str(input(\"Update Your Fullname : \"))\n",
    "        email = str(input(\"Update Your Email Address : \"))\n",
    "        pn_no = str(input(\"Update Your Phone Number : \"))\n",
    "        address = str(input(\"Update Your Address : \"))\n",
    "        password = str(input(\"Renter a strong Password : \"))\n",
    "        if  self._register_details(name,pn_no,email,address,password):\n",
    "                return \"Update Succesfull\"\n",
    "        else:\n",
    "            return \"Update Unsuccesful\"\n",
    "            "
   ]
  },
  {
   "cell_type": "code",
   "execution_count": null,
   "id": "9e99831e",
   "metadata": {},
   "outputs": [],
   "source": []
  },
  {
   "cell_type": "code",
   "execution_count": null,
   "id": "dd7f77ff",
   "metadata": {},
   "outputs": [],
   "source": [
    "user = User()\n",
    "user.register()"
   ]
  },
  {
   "cell_type": "code",
   "execution_count": null,
   "id": "6190acf3",
   "metadata": {},
   "outputs": [],
   "source": [
    "user.login('p','p')"
   ]
  },
  {
   "cell_type": "code",
   "execution_count": null,
   "id": "345e981a",
   "metadata": {},
   "outputs": [],
   "source": [
    "user.login('p','p')"
   ]
  },
  {
   "cell_type": "code",
   "execution_count": null,
   "id": "471250aa",
   "metadata": {},
   "outputs": [],
   "source": [
    "admin = Admin()"
   ]
  },
  {
   "cell_type": "code",
   "execution_count": null,
   "id": "cefe3ee2",
   "metadata": {},
   "outputs": [],
   "source": [
    "admin.view()"
   ]
  },
  {
   "cell_type": "code",
   "execution_count": null,
   "id": "9e1b2df4",
   "metadata": {},
   "outputs": [],
   "source": [
    "admin.add()"
   ]
  },
  {
   "cell_type": "code",
   "execution_count": null,
   "id": "bff51a65",
   "metadata": {},
   "outputs": [],
   "source": [
    "admin.view()"
   ]
  },
  {
   "cell_type": "code",
   "execution_count": null,
   "id": "6bb364a1",
   "metadata": {},
   "outputs": [],
   "source": [
    "admin.remove()"
   ]
  },
  {
   "cell_type": "code",
   "execution_count": null,
   "id": "fdd26c75",
   "metadata": {},
   "outputs": [],
   "source": [
    "admin.view()"
   ]
  },
  {
   "cell_type": "code",
   "execution_count": null,
   "id": "9c3fbdbc",
   "metadata": {},
   "outputs": [],
   "source": []
  }
 ],
 "metadata": {
  "kernelspec": {
   "display_name": "Python 3 (ipykernel)",
   "language": "python",
   "name": "python3"
  },
  "language_info": {
   "codemirror_mode": {
    "name": "ipython",
    "version": 3
   },
   "file_extension": ".py",
   "mimetype": "text/x-python",
   "name": "python",
   "nbconvert_exporter": "python",
   "pygments_lexer": "ipython3",
   "version": "3.10.9"
  }
 },
 "nbformat": 4,
 "nbformat_minor": 5
}
